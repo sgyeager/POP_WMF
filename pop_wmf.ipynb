{
 "cells": [
  {
   "cell_type": "code",
   "execution_count": 1,
   "metadata": {},
   "outputs": [],
   "source": [
    "import xarray as xr               #netcdf multidim reading/writing/manipulation\n",
    "import glob                       #globbing\n",
    "import numpy as np                #numerics\n",
    "import os                         #operating system commands\n",
    "import subprocess\n",
    "import time as timer\n",
    "import pop_tools\n",
    "import sys"
   ]
  },
  {
   "cell_type": "code",
   "execution_count": 2,
   "metadata": {},
   "outputs": [],
   "source": [
    "indir = '/glade/collections/cdg/timeseries-cmip6/b.e21.B1850.f09_g17.CMIP6-piControl.001/ocn/proc/tseries/month_1'\n",
    "outdir = '/glade/scratch/yeager'\n",
    "case = 'b.e21.B1850.f09_g17.CMIP6-piControl.001'\n",
    "tstmp = '000101-009912'\n",
    "fout = f'{outdir}/{case}.pop.h.SDEN_F.{tstmp}.nc'\n",
    "\n",
    "ht_vars = ['SHF', 'SHF_QSW', 'LWDN_F', 'LWUP_F', 'SENH_F', 'MELTH_F', 'QFLUX']\n",
    "fw_vars = ['SFWF', 'EVAP_F', 'PREC_F', 'ROFF_F', 'IOFF_F', 'MELT_F', 'SALT_F', 'SNOW_F']\n",
    "fin_ht = [f'{indir}/{case}.pop.h.' + var + f'.{tstmp}.nc' for var in ht_vars]\n",
    "fin_fw = [f'{indir}/{case}.pop.h.' + var + f'.{tstmp}.nc' for var in fw_vars]\n",
    "fin_ts = [f'{indir}/{case}.pop.h.TEMP.{tstmp}.nc',f'{indir}/{case}.pop.h.SALT.{tstmp}.nc']"
   ]
  },
  {
   "cell_type": "code",
   "execution_count": 3,
   "metadata": {},
   "outputs": [],
   "source": [
    "#Load flux datasets\n",
    "ds_ht = xr.open_mfdataset(fin_ht, combine='by_coords')\n",
    "ds_fw = xr.open_mfdataset(fin_fw, combine='by_coords')"
   ]
  },
  {
   "cell_type": "code",
   "execution_count": 4,
   "metadata": {},
   "outputs": [
    {
     "data": {
      "text/plain": [
       "<xarray.Dataset>\n",
       "Dimensions:                 (d2: 2, lat_aux_grid: 395, moc_comp: 3, moc_z: 61, nlat: 384, nlon: 320, time: 1188, transport_comp: 5, transport_reg: 2, z_t: 60, z_t_150m: 15, z_w: 60, z_w_bot: 60, z_w_top: 60)\n",
       "Coordinates:\n",
       "  * z_t                     (z_t) float32 500.0 1500.0 ... 512502.8 537500.0\n",
       "  * z_t_150m                (z_t_150m) float32 500.0 1500.0 ... 13500.0 14500.0\n",
       "  * z_w                     (z_w) float32 0.0 1000.0 ... 500004.7 525000.94\n",
       "  * z_w_top                 (z_w_top) float32 0.0 1000.0 ... 500004.7 525000.94\n",
       "  * z_w_bot                 (z_w_bot) float32 1000.0 2000.0 ... 549999.06\n",
       "  * lat_aux_grid            (lat_aux_grid) float32 -79.48815 -78.952896 ... 90.0\n",
       "  * moc_z                   (moc_z) float32 0.0 1000.0 ... 525000.94 549999.06\n",
       "    ULONG                   (nlat, nlon) float64 dask.array<chunksize=(384, 320), meta=np.ndarray>\n",
       "    ULAT                    (nlat, nlon) float64 dask.array<chunksize=(384, 320), meta=np.ndarray>\n",
       "    TLONG                   (nlat, nlon) float64 dask.array<chunksize=(384, 320), meta=np.ndarray>\n",
       "    TLAT                    (nlat, nlon) float64 dask.array<chunksize=(384, 320), meta=np.ndarray>\n",
       "  * time                    (time) object 0001-02-01 00:00:00 ... 0100-01-01 00:00:00\n",
       "Dimensions without coordinates: d2, moc_comp, nlat, nlon, transport_comp, transport_reg\n",
       "Data variables:\n",
       "    moc_components          (moc_comp) |S384 dask.array<chunksize=(3,), meta=np.ndarray>\n",
       "    transport_components    (transport_comp) |S384 dask.array<chunksize=(5,), meta=np.ndarray>\n",
       "    transport_regions       (transport_reg) |S384 dask.array<chunksize=(2,), meta=np.ndarray>\n",
       "    dz                      (z_t) float32 dask.array<chunksize=(60,), meta=np.ndarray>\n",
       "    dzw                     (z_w) float32 dask.array<chunksize=(60,), meta=np.ndarray>\n",
       "    KMT                     (nlat, nlon) float64 dask.array<chunksize=(384, 320), meta=np.ndarray>\n",
       "    KMU                     (nlat, nlon) float64 dask.array<chunksize=(384, 320), meta=np.ndarray>\n",
       "    REGION_MASK             (nlat, nlon) float64 dask.array<chunksize=(384, 320), meta=np.ndarray>\n",
       "    UAREA                   (nlat, nlon) float64 dask.array<chunksize=(384, 320), meta=np.ndarray>\n",
       "    TAREA                   (nlat, nlon) float64 dask.array<chunksize=(384, 320), meta=np.ndarray>\n",
       "    HU                      (nlat, nlon) float64 dask.array<chunksize=(384, 320), meta=np.ndarray>\n",
       "    HT                      (nlat, nlon) float64 dask.array<chunksize=(384, 320), meta=np.ndarray>\n",
       "    DXU                     (nlat, nlon) float64 dask.array<chunksize=(384, 320), meta=np.ndarray>\n",
       "    DYU                     (nlat, nlon) float64 dask.array<chunksize=(384, 320), meta=np.ndarray>\n",
       "    DXT                     (nlat, nlon) float64 dask.array<chunksize=(384, 320), meta=np.ndarray>\n",
       "    DYT                     (nlat, nlon) float64 dask.array<chunksize=(384, 320), meta=np.ndarray>\n",
       "    HTN                     (nlat, nlon) float64 dask.array<chunksize=(384, 320), meta=np.ndarray>\n",
       "    HTE                     (nlat, nlon) float64 dask.array<chunksize=(384, 320), meta=np.ndarray>\n",
       "    HUS                     (nlat, nlon) float64 dask.array<chunksize=(384, 320), meta=np.ndarray>\n",
       "    HUW                     (nlat, nlon) float64 dask.array<chunksize=(384, 320), meta=np.ndarray>\n",
       "    ANGLE                   (nlat, nlon) float64 dask.array<chunksize=(384, 320), meta=np.ndarray>\n",
       "    ANGLET                  (nlat, nlon) float64 dask.array<chunksize=(384, 320), meta=np.ndarray>\n",
       "    days_in_norm_year       timedelta64[ns] 365 days\n",
       "    grav                    float64 980.6\n",
       "    omega                   float64 7.292e-05\n",
       "    radius                  float64 6.371e+08\n",
       "    cp_sw                   float64 3.996e+07\n",
       "    sound                   float64 1.5e+05\n",
       "    vonkar                  float64 0.4\n",
       "    cp_air                  float64 1.005e+03\n",
       "    rho_air                 float64 1.292\n",
       "    rho_sw                  float64 1.026\n",
       "    rho_fw                  float64 1.0\n",
       "    stefan_boltzmann        float64 5.67e-08\n",
       "    latent_heat_vapor       float64 2.501e+06\n",
       "    latent_heat_fusion      float64 3.337e+09\n",
       "    latent_heat_fusion_mks  float64 3.337e+05\n",
       "    ocn_ref_salinity        float64 34.7\n",
       "    sea_ice_salinity        float64 4.0\n",
       "    T0_Kelvin               float64 273.1\n",
       "    salt_to_ppt             float64 1e+03\n",
       "    ppt_to_salt             float64 0.001\n",
       "    mass_to_Sv              float64 1e-12\n",
       "    heat_to_PW              float64 4.186e-15\n",
       "    salt_to_Svppt           float64 1e-09\n",
       "    salt_to_mmday           float64 3.154e+05\n",
       "    momentum_factor         float64 10.0\n",
       "    hflux_factor            float64 2.439e-05\n",
       "    fwflux_factor           float64 0.0001\n",
       "    salinity_factor         float64 -0.00347\n",
       "    sflux_factor            float64 0.1\n",
       "    nsurface_t              float64 8.61e+04\n",
       "    nsurface_u              float64 8.297e+04\n",
       "    time_bound              (time, d2) object dask.array<chunksize=(1188, 2), meta=np.ndarray>\n",
       "    LWDN_F                  (time, nlat, nlon) float32 dask.array<chunksize=(1188, 384, 320), meta=np.ndarray>\n",
       "    LWUP_F                  (time, nlat, nlon) float32 dask.array<chunksize=(1188, 384, 320), meta=np.ndarray>\n",
       "    MELTH_F                 (time, nlat, nlon) float32 dask.array<chunksize=(1188, 384, 320), meta=np.ndarray>\n",
       "    QFLUX                   (time, nlat, nlon) float32 dask.array<chunksize=(1188, 384, 320), meta=np.ndarray>\n",
       "    SENH_F                  (time, nlat, nlon) float32 dask.array<chunksize=(1188, 384, 320), meta=np.ndarray>\n",
       "    SHF                     (time, nlat, nlon) float32 dask.array<chunksize=(1188, 384, 320), meta=np.ndarray>\n",
       "    SHF_QSW                 (time, nlat, nlon) float32 dask.array<chunksize=(1188, 384, 320), meta=np.ndarray>\n",
       "Attributes:\n",
       "    title:             b.e21.B1850.f09_g17.CMIP6-piControl.001\n",
       "    history:           none\n",
       "    Conventions:       CF-1.0; http://www.cgd.ucar.edu/cms/eaton/netcdf/CF-cu...\n",
       "    time_period_freq:  month_1\n",
       "    model_doi_url:     https://doi.org/10.5065/D67H1H0V\n",
       "    contents:          Diagnostic and Prognostic Variables\n",
       "    source:            CCSM POP2, the CCSM Ocean Component\n",
       "    revision:          $Id: tavg.F90 89644 2018-08-04 14:26:01Z klindsay $\n",
       "    calendar:          All years have exactly  365 days.\n",
       "    start_time:        This dataset was created on 2018-08-09 at 18:18:26.3\n",
       "    cell_methods:      cell_methods = time: mean ==> the variable values are ..."
      ]
     },
     "execution_count": 4,
     "metadata": {},
     "output_type": "execute_result"
    }
   ],
   "source": [
    "ds_ht"
   ]
  },
  {
   "cell_type": "code",
   "execution_count": 5,
   "metadata": {},
   "outputs": [
    {
     "data": {
      "text/plain": [
       "<xarray.DataArray 'latent_heat_fusion' ()>\n",
       "array(333700.)\n",
       "Attributes:\n",
       "    units:    J/kg"
      ]
     },
     "execution_count": 5,
     "metadata": {},
     "output_type": "execute_result"
    }
   ],
   "source": [
    "#conversion factors\n",
    "latvap=ds_fw['latent_heat_vapor']       # J/kg\n",
    "latfus=ds_fw['latent_heat_fusion']      # erg/g\n",
    "latfus = latfus/1.e4\n",
    "latfus.attrs['units'] = 'J/kg'\n",
    "latfus"
   ]
  },
  {
   "cell_type": "code",
   "execution_count": 6,
   "metadata": {},
   "outputs": [],
   "source": [
    "#Modify heat flux dataset\n",
    "ds_ht['SHF'] = ds_ht['SHF'] + ds_ht['QFLUX']\n",
    "ds_ht['LWDN_F'] = ds_ht['LWDN_F'] + ds_ht['LWUP_F']\n",
    "ds_ht=ds_ht.rename({'LWDN_F':'LW'})\n",
    "ds_ht=ds_ht.drop('LWUP_F')"
   ]
  },
  {
   "cell_type": "code",
   "execution_count": 7,
   "metadata": {},
   "outputs": [],
   "source": [
    "latent=ds_fw['EVAP_F']*latvap\n",
    "latent.attrs = {'units':'W/m^2','long_name':'Latent Heat Flux'}\n",
    "ds_ht['Latent']=latent\n",
    "snowmelt=-ds_fw['SNOW_F']*latfus\n",
    "snowmelt.attrs = {'units':'W/m^2','long_name':'SNOW_F Heat Flux'}\n",
    "ds_ht['Snowmelt']=snowmelt\n",
    "ioffmelt=-ds_fw['IOFF_F']*latfus\n",
    "ioffmelt.attrs = {'units':'W/m^2','long_name':'IOFF_F Heat Flux'}\n",
    "ds_ht['Ioffmelt']=ioffmelt"
   ]
  },
  {
   "cell_type": "code",
   "execution_count": 8,
   "metadata": {},
   "outputs": [
    {
     "data": {
      "text/plain": [
       "<xarray.Dataset>\n",
       "Dimensions:                 (d2: 2, lat_aux_grid: 395, moc_comp: 3, moc_z: 61, nlat: 384, nlon: 320, time: 1188, transport_comp: 5, transport_reg: 2, z_t: 60, z_t_150m: 15, z_w: 60, z_w_bot: 60, z_w_top: 60)\n",
       "Coordinates:\n",
       "  * z_t                     (z_t) float32 500.0 1500.0 ... 512502.8 537500.0\n",
       "  * z_t_150m                (z_t_150m) float32 500.0 1500.0 ... 13500.0 14500.0\n",
       "  * z_w                     (z_w) float32 0.0 1000.0 ... 500004.7 525000.94\n",
       "  * z_w_top                 (z_w_top) float32 0.0 1000.0 ... 500004.7 525000.94\n",
       "  * z_w_bot                 (z_w_bot) float32 1000.0 2000.0 ... 549999.06\n",
       "  * lat_aux_grid            (lat_aux_grid) float32 -79.48815 -78.952896 ... 90.0\n",
       "  * moc_z                   (moc_z) float32 0.0 1000.0 ... 525000.94 549999.06\n",
       "    ULONG                   (nlat, nlon) float64 dask.array<chunksize=(384, 320), meta=np.ndarray>\n",
       "    ULAT                    (nlat, nlon) float64 dask.array<chunksize=(384, 320), meta=np.ndarray>\n",
       "    TLONG                   (nlat, nlon) float64 dask.array<chunksize=(384, 320), meta=np.ndarray>\n",
       "    TLAT                    (nlat, nlon) float64 dask.array<chunksize=(384, 320), meta=np.ndarray>\n",
       "  * time                    (time) object 0001-02-01 00:00:00 ... 0100-01-01 00:00:00\n",
       "Dimensions without coordinates: d2, moc_comp, nlat, nlon, transport_comp, transport_reg\n",
       "Data variables:\n",
       "    moc_components          (moc_comp) |S384 dask.array<chunksize=(3,), meta=np.ndarray>\n",
       "    transport_components    (transport_comp) |S384 dask.array<chunksize=(5,), meta=np.ndarray>\n",
       "    transport_regions       (transport_reg) |S384 dask.array<chunksize=(2,), meta=np.ndarray>\n",
       "    dz                      (z_t) float32 dask.array<chunksize=(60,), meta=np.ndarray>\n",
       "    dzw                     (z_w) float32 dask.array<chunksize=(60,), meta=np.ndarray>\n",
       "    KMT                     (nlat, nlon) float64 dask.array<chunksize=(384, 320), meta=np.ndarray>\n",
       "    KMU                     (nlat, nlon) float64 dask.array<chunksize=(384, 320), meta=np.ndarray>\n",
       "    REGION_MASK             (nlat, nlon) float64 dask.array<chunksize=(384, 320), meta=np.ndarray>\n",
       "    UAREA                   (nlat, nlon) float64 dask.array<chunksize=(384, 320), meta=np.ndarray>\n",
       "    TAREA                   (nlat, nlon) float64 dask.array<chunksize=(384, 320), meta=np.ndarray>\n",
       "    HU                      (nlat, nlon) float64 dask.array<chunksize=(384, 320), meta=np.ndarray>\n",
       "    HT                      (nlat, nlon) float64 dask.array<chunksize=(384, 320), meta=np.ndarray>\n",
       "    DXU                     (nlat, nlon) float64 dask.array<chunksize=(384, 320), meta=np.ndarray>\n",
       "    DYU                     (nlat, nlon) float64 dask.array<chunksize=(384, 320), meta=np.ndarray>\n",
       "    DXT                     (nlat, nlon) float64 dask.array<chunksize=(384, 320), meta=np.ndarray>\n",
       "    DYT                     (nlat, nlon) float64 dask.array<chunksize=(384, 320), meta=np.ndarray>\n",
       "    HTN                     (nlat, nlon) float64 dask.array<chunksize=(384, 320), meta=np.ndarray>\n",
       "    HTE                     (nlat, nlon) float64 dask.array<chunksize=(384, 320), meta=np.ndarray>\n",
       "    HUS                     (nlat, nlon) float64 dask.array<chunksize=(384, 320), meta=np.ndarray>\n",
       "    HUW                     (nlat, nlon) float64 dask.array<chunksize=(384, 320), meta=np.ndarray>\n",
       "    ANGLE                   (nlat, nlon) float64 dask.array<chunksize=(384, 320), meta=np.ndarray>\n",
       "    ANGLET                  (nlat, nlon) float64 dask.array<chunksize=(384, 320), meta=np.ndarray>\n",
       "    days_in_norm_year       timedelta64[ns] 365 days\n",
       "    grav                    float64 980.6\n",
       "    omega                   float64 7.292e-05\n",
       "    radius                  float64 6.371e+08\n",
       "    cp_sw                   float64 3.996e+07\n",
       "    sound                   float64 1.5e+05\n",
       "    vonkar                  float64 0.4\n",
       "    cp_air                  float64 1.005e+03\n",
       "    rho_air                 float64 1.292\n",
       "    rho_sw                  float64 1.026\n",
       "    rho_fw                  float64 1.0\n",
       "    stefan_boltzmann        float64 5.67e-08\n",
       "    latent_heat_vapor       float64 2.501e+06\n",
       "    latent_heat_fusion      float64 3.337e+09\n",
       "    latent_heat_fusion_mks  float64 3.337e+05\n",
       "    ocn_ref_salinity        float64 34.7\n",
       "    sea_ice_salinity        float64 4.0\n",
       "    T0_Kelvin               float64 273.1\n",
       "    salt_to_ppt             float64 1e+03\n",
       "    ppt_to_salt             float64 0.001\n",
       "    mass_to_Sv              float64 1e-12\n",
       "    heat_to_PW              float64 4.186e-15\n",
       "    salt_to_Svppt           float64 1e-09\n",
       "    salt_to_mmday           float64 3.154e+05\n",
       "    momentum_factor         float64 10.0\n",
       "    hflux_factor            float64 2.439e-05\n",
       "    fwflux_factor           float64 0.0001\n",
       "    salinity_factor         float64 -0.00347\n",
       "    sflux_factor            float64 0.1\n",
       "    nsurface_t              float64 8.61e+04\n",
       "    nsurface_u              float64 8.297e+04\n",
       "    time_bound              (time, d2) object dask.array<chunksize=(1188, 2), meta=np.ndarray>\n",
       "    LW                      (time, nlat, nlon) float32 dask.array<chunksize=(1188, 384, 320), meta=np.ndarray>\n",
       "    MELTH_F                 (time, nlat, nlon) float32 dask.array<chunksize=(1188, 384, 320), meta=np.ndarray>\n",
       "    QFLUX                   (time, nlat, nlon) float32 dask.array<chunksize=(1188, 384, 320), meta=np.ndarray>\n",
       "    SENH_F                  (time, nlat, nlon) float32 dask.array<chunksize=(1188, 384, 320), meta=np.ndarray>\n",
       "    SHF                     (time, nlat, nlon) float32 dask.array<chunksize=(1188, 384, 320), meta=np.ndarray>\n",
       "    SHF_QSW                 (time, nlat, nlon) float32 dask.array<chunksize=(1188, 384, 320), meta=np.ndarray>\n",
       "    Latent                  (time, nlat, nlon) float64 dask.array<chunksize=(1188, 384, 320), meta=np.ndarray>\n",
       "    Snowmelt                (time, nlat, nlon) float64 dask.array<chunksize=(1188, 384, 320), meta=np.ndarray>\n",
       "    Ioffmelt                (time, nlat, nlon) float64 dask.array<chunksize=(1188, 384, 320), meta=np.ndarray>\n",
       "Attributes:\n",
       "    title:             b.e21.B1850.f09_g17.CMIP6-piControl.001\n",
       "    history:           none\n",
       "    Conventions:       CF-1.0; http://www.cgd.ucar.edu/cms/eaton/netcdf/CF-cu...\n",
       "    time_period_freq:  month_1\n",
       "    model_doi_url:     https://doi.org/10.5065/D67H1H0V\n",
       "    contents:          Diagnostic and Prognostic Variables\n",
       "    source:            CCSM POP2, the CCSM Ocean Component\n",
       "    revision:          $Id: tavg.F90 89644 2018-08-04 14:26:01Z klindsay $\n",
       "    calendar:          All years have exactly  365 days.\n",
       "    start_time:        This dataset was created on 2018-08-09 at 18:18:26.3\n",
       "    cell_methods:      cell_methods = time: mean ==> the variable values are ..."
      ]
     },
     "execution_count": 8,
     "metadata": {},
     "output_type": "execute_result"
    }
   ],
   "source": [
    "ds_ht"
   ]
  },
  {
   "cell_type": "code",
   "execution_count": 7,
   "metadata": {
    "collapsed": true,
    "jupyter": {
     "outputs_hidden": true
    }
   },
   "outputs": [
    {
     "ename": "KeyError",
     "evalue": "'SFWF'",
     "output_type": "error",
     "traceback": [
      "\u001b[0;31m---------------------------------------------------------------------------\u001b[0m",
      "\u001b[0;31mKeyError\u001b[0m                                  Traceback (most recent call last)",
      "\u001b[0;32m/glade/work/yeager/miniconda3/envs/python-tutorial/lib/python3.7/site-packages/xarray/core/dataset.py\u001b[0m in \u001b[0;36m_construct_dataarray\u001b[0;34m(self, name)\u001b[0m\n\u001b[1;32m   1150\u001b[0m         \u001b[0;32mtry\u001b[0m\u001b[0;34m:\u001b[0m\u001b[0;34m\u001b[0m\u001b[0;34m\u001b[0m\u001b[0m\n\u001b[0;32m-> 1151\u001b[0;31m             \u001b[0mvariable\u001b[0m \u001b[0;34m=\u001b[0m \u001b[0mself\u001b[0m\u001b[0;34m.\u001b[0m\u001b[0m_variables\u001b[0m\u001b[0;34m[\u001b[0m\u001b[0mname\u001b[0m\u001b[0;34m]\u001b[0m\u001b[0;34m\u001b[0m\u001b[0;34m\u001b[0m\u001b[0m\n\u001b[0m\u001b[1;32m   1152\u001b[0m         \u001b[0;32mexcept\u001b[0m \u001b[0mKeyError\u001b[0m\u001b[0;34m:\u001b[0m\u001b[0;34m\u001b[0m\u001b[0;34m\u001b[0m\u001b[0m\n",
      "\u001b[0;31mKeyError\u001b[0m: 'SFWF'",
      "\nDuring handling of the above exception, another exception occurred:\n",
      "\u001b[0;31mKeyError\u001b[0m                                  Traceback (most recent call last)",
      "\u001b[0;32m<ipython-input-7-19a262e2d2f8>\u001b[0m in \u001b[0;36m<module>\u001b[0;34m\u001b[0m\n\u001b[1;32m      1\u001b[0m \u001b[0;31m#Modify freshwater flux dataset\u001b[0m\u001b[0;34m\u001b[0m\u001b[0;34m\u001b[0m\u001b[0;34m\u001b[0m\u001b[0m\n\u001b[0;32m----> 2\u001b[0;31m \u001b[0mds_fw\u001b[0m\u001b[0;34m[\u001b[0m\u001b[0;34m'SFWF'\u001b[0m\u001b[0;34m]\u001b[0m \u001b[0;34m=\u001b[0m \u001b[0mds_ht\u001b[0m\u001b[0;34m[\u001b[0m\u001b[0;34m'SFWF'\u001b[0m\u001b[0;34m]\u001b[0m \u001b[0;34m-\u001b[0m \u001b[0mds_ht\u001b[0m\u001b[0;34m[\u001b[0m\u001b[0;34m'QFLUX'\u001b[0m\u001b[0;34m]\u001b[0m\u001b[0;34m/\u001b[0m\u001b[0mlatfus\u001b[0m\u001b[0;34m\u001b[0m\u001b[0;34m\u001b[0m\u001b[0m\n\u001b[0m",
      "\u001b[0;32m/glade/work/yeager/miniconda3/envs/python-tutorial/lib/python3.7/site-packages/xarray/core/dataset.py\u001b[0m in \u001b[0;36m__getitem__\u001b[0;34m(self, key)\u001b[0m\n\u001b[1;32m   1241\u001b[0m \u001b[0;34m\u001b[0m\u001b[0m\n\u001b[1;32m   1242\u001b[0m         \u001b[0;32mif\u001b[0m \u001b[0mhashable\u001b[0m\u001b[0;34m(\u001b[0m\u001b[0mkey\u001b[0m\u001b[0;34m)\u001b[0m\u001b[0;34m:\u001b[0m\u001b[0;34m\u001b[0m\u001b[0;34m\u001b[0m\u001b[0m\n\u001b[0;32m-> 1243\u001b[0;31m             \u001b[0;32mreturn\u001b[0m \u001b[0mself\u001b[0m\u001b[0;34m.\u001b[0m\u001b[0m_construct_dataarray\u001b[0m\u001b[0;34m(\u001b[0m\u001b[0mkey\u001b[0m\u001b[0;34m)\u001b[0m\u001b[0;34m\u001b[0m\u001b[0;34m\u001b[0m\u001b[0m\n\u001b[0m\u001b[1;32m   1244\u001b[0m         \u001b[0;32melse\u001b[0m\u001b[0;34m:\u001b[0m\u001b[0;34m\u001b[0m\u001b[0;34m\u001b[0m\u001b[0m\n\u001b[1;32m   1245\u001b[0m             \u001b[0;32mreturn\u001b[0m \u001b[0mself\u001b[0m\u001b[0;34m.\u001b[0m\u001b[0m_copy_listed\u001b[0m\u001b[0;34m(\u001b[0m\u001b[0mnp\u001b[0m\u001b[0;34m.\u001b[0m\u001b[0masarray\u001b[0m\u001b[0;34m(\u001b[0m\u001b[0mkey\u001b[0m\u001b[0;34m)\u001b[0m\u001b[0;34m)\u001b[0m\u001b[0;34m\u001b[0m\u001b[0;34m\u001b[0m\u001b[0m\n",
      "\u001b[0;32m/glade/work/yeager/miniconda3/envs/python-tutorial/lib/python3.7/site-packages/xarray/core/dataset.py\u001b[0m in \u001b[0;36m_construct_dataarray\u001b[0;34m(self, name)\u001b[0m\n\u001b[1;32m   1152\u001b[0m         \u001b[0;32mexcept\u001b[0m \u001b[0mKeyError\u001b[0m\u001b[0;34m:\u001b[0m\u001b[0;34m\u001b[0m\u001b[0;34m\u001b[0m\u001b[0m\n\u001b[1;32m   1153\u001b[0m             _, name, variable = _get_virtual_variable(\n\u001b[0;32m-> 1154\u001b[0;31m                 \u001b[0mself\u001b[0m\u001b[0;34m.\u001b[0m\u001b[0m_variables\u001b[0m\u001b[0;34m,\u001b[0m \u001b[0mname\u001b[0m\u001b[0;34m,\u001b[0m \u001b[0mself\u001b[0m\u001b[0;34m.\u001b[0m\u001b[0m_level_coords\u001b[0m\u001b[0;34m,\u001b[0m \u001b[0mself\u001b[0m\u001b[0;34m.\u001b[0m\u001b[0mdims\u001b[0m\u001b[0;34m\u001b[0m\u001b[0;34m\u001b[0m\u001b[0m\n\u001b[0m\u001b[1;32m   1155\u001b[0m             )\n\u001b[1;32m   1156\u001b[0m \u001b[0;34m\u001b[0m\u001b[0m\n",
      "\u001b[0;32m/glade/work/yeager/miniconda3/envs/python-tutorial/lib/python3.7/site-packages/xarray/core/dataset.py\u001b[0m in \u001b[0;36m_get_virtual_variable\u001b[0;34m(variables, key, level_vars, dim_sizes)\u001b[0m\n\u001b[1;32m    144\u001b[0m         \u001b[0mref_var\u001b[0m \u001b[0;34m=\u001b[0m \u001b[0mdim_var\u001b[0m\u001b[0;34m.\u001b[0m\u001b[0mto_index_variable\u001b[0m\u001b[0;34m(\u001b[0m\u001b[0;34m)\u001b[0m\u001b[0;34m.\u001b[0m\u001b[0mget_level_variable\u001b[0m\u001b[0;34m(\u001b[0m\u001b[0mref_name\u001b[0m\u001b[0;34m)\u001b[0m\u001b[0;34m\u001b[0m\u001b[0;34m\u001b[0m\u001b[0m\n\u001b[1;32m    145\u001b[0m     \u001b[0;32melse\u001b[0m\u001b[0;34m:\u001b[0m\u001b[0;34m\u001b[0m\u001b[0;34m\u001b[0m\u001b[0m\n\u001b[0;32m--> 146\u001b[0;31m         \u001b[0mref_var\u001b[0m \u001b[0;34m=\u001b[0m \u001b[0mvariables\u001b[0m\u001b[0;34m[\u001b[0m\u001b[0mref_name\u001b[0m\u001b[0;34m]\u001b[0m\u001b[0;34m\u001b[0m\u001b[0;34m\u001b[0m\u001b[0m\n\u001b[0m\u001b[1;32m    147\u001b[0m \u001b[0;34m\u001b[0m\u001b[0m\n\u001b[1;32m    148\u001b[0m     \u001b[0;32mif\u001b[0m \u001b[0mvar_name\u001b[0m \u001b[0;32mis\u001b[0m \u001b[0;32mNone\u001b[0m\u001b[0;34m:\u001b[0m\u001b[0;34m\u001b[0m\u001b[0;34m\u001b[0m\u001b[0m\n",
      "\u001b[0;31mKeyError\u001b[0m: 'SFWF'"
     ]
    }
   ],
   "source": [
    "#Modify freshwater flux dataset\n",
    "ds_fw['SFWF'] = ds_ht['SFWF'] - ds_ht['QFLUX']/latfus"
   ]
  },
  {
   "cell_type": "code",
   "execution_count": 9,
   "metadata": {},
   "outputs": [],
   "source": [
    "ds_ts = xr.open_mfdataset(fin_ts, combine='by_coords').isel(z_t=0)\n",
    "#ds_ts"
   ]
  },
  {
   "cell_type": "code",
   "execution_count": 14,
   "metadata": {},
   "outputs": [],
   "source": [
    "# Compute alpha & beta\n",
    "tmps = ds_ts['SALT'].isel(time=0)\n",
    "tmpt = ds_ts['TEMP'].isel(time=0)\n",
    "depth=xr.DataArray(np.zeros(np.shape(tmpt)),dims=tmpt.dims,coords=tmpt.coords)\n",
    "#rho,drhods,drhodt = pop_tools.eos(salt=tmps,temp=tmpt,return_coefs=True,depth=depth)\n",
    "#depth=0.\n",
    "rho = pop_tools.eos(salt=tmps,temp=tmpt,depth=depth)"
   ]
  },
  {
   "cell_type": "code",
   "execution_count": 10,
   "metadata": {},
   "outputs": [
    {
     "data": {
      "text/plain": [
       "<xarray.DataArray 'density' (nlat: 384, nlon: 320)>\n",
       "dask.array<compute_eos, shape=(384, 320), dtype=float32, chunksize=(384, 320)>\n",
       "Coordinates:\n",
       "    z_t      float32 500.0\n",
       "    ULONG    (nlat, nlon) float64 321.1 322.3 323.4 324.5 ... 319.2 319.6 320.0\n",
       "    ULAT     (nlat, nlon) float64 -78.95 -78.95 -78.95 ... 72.42 72.41 72.41\n",
       "    TLONG    (nlat, nlon) float64 320.6 321.7 322.8 323.9 ... 318.9 319.4 319.8\n",
       "    TLAT     (nlat, nlon) float64 -79.22 -79.22 -79.22 ... 72.2 72.19 72.19\n",
       "    time     object 0001-02-01 00:00:00\n",
       "Dimensions without coordinates: nlat, nlon\n",
       "Attributes:\n",
       "    units:      kg/m^3\n",
       "    long_name:  Density"
      ]
     },
     "execution_count": 10,
     "metadata": {},
     "output_type": "execute_result"
    }
   ],
   "source": [
    "rho"
   ]
  },
  {
   "cell_type": "code",
   "execution_count": null,
   "metadata": {
    "collapsed": true,
    "jupyter": {
     "outputs_hidden": true
    }
   },
   "outputs": [],
   "source": []
  }
 ],
 "metadata": {
  "kernelspec": {
   "display_name": "Python [conda env:python-tutorial]",
   "language": "python",
   "name": "conda-env-python-tutorial-py"
  },
  "language_info": {
   "codemirror_mode": {
    "name": "ipython",
    "version": 3
   },
   "file_extension": ".py",
   "mimetype": "text/x-python",
   "name": "python",
   "nbconvert_exporter": "python",
   "pygments_lexer": "ipython3",
   "version": "3.7.3"
  }
 },
 "nbformat": 4,
 "nbformat_minor": 4
}
